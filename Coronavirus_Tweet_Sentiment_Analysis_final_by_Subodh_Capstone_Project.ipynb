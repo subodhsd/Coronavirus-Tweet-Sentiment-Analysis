{
  "cells": [
    {
      "cell_type": "markdown",
      "metadata": {
        "id": "view-in-github",
        "colab_type": "text"
      },
      "source": [
        "<a href=\"https://colab.research.google.com/github/subodhsd/Coronavirus-Tweet-Sentiment-Analysis/blob/main/Coronavirus_Tweet_Sentiment_Analysis_final_by_Subodh_Capstone_Project.ipynb\" target=\"_parent\"><img src=\"https://colab.research.google.com/assets/colab-badge.svg\" alt=\"Open In Colab\"/></a>"
      ]
    },
    {
      "cell_type": "markdown",
      "metadata": {
        "id": "tOGC-qoyhJeX"
      },
      "source": [
        "# <b><u> Project Title : Sentiment Analysis : Predicting sentiment of COVID-19 tweets</u></b>"
      ]
    },
    {
      "cell_type": "markdown",
      "metadata": {
        "id": "Y06xIdG26kRF"
      },
      "source": [
        "## <b> Problem Description </b>\n",
        "\n",
        "### This challenge asks you to build a classification model to predict the sentiment of COVID-19 tweets.The tweets have been pulled from Twitter and manual tagging has been done then.\n",
        "\n",
        "### The names and usernames have been given codes to avoid any privacy concerns.\n",
        "\n",
        "### The Features of The Dataset:\n",
        "\n",
        "\n",
        "\n",
        "1. UserName-Encoded UserName of the use\n",
        "2. ScreenName-Encoded ScreenName of the use\n",
        "2. Location-The location of the tweet\n",
        "3. Tweet At-Date of the tweet\n",
        "4. Original Tweet-The text/content of the tweet\n",
        "5. Sentiment-the sentiment of the tweet. It has five labels-Positive, Negative,  Neutral, Extremely Positive, Extremely Negative"
      ]
    },
    {
      "cell_type": "code",
      "execution_count": 1,
      "metadata": {
        "colab": {
          "base_uri": "https://localhost:8080/"
        },
        "id": "7XYdRX6V7aze",
        "outputId": "c763a55b-6a2a-447b-b10f-d541a772dbd2"
      },
      "outputs": [
        {
          "output_type": "stream",
          "name": "stdout",
          "text": [
            "Mounted at /content/drive\n"
          ]
        }
      ],
      "source": [
        "#mounting Drive\n",
        "from google.colab import drive\n",
        "drive.mount('/content/drive')"
      ]
    },
    {
      "cell_type": "code",
      "execution_count": 2,
      "metadata": {
        "colab": {
          "base_uri": "https://localhost:8080/"
        },
        "id": "JvR-_OkB8W1I",
        "outputId": "254aa4fb-0755-45bf-9b79-a8a9c1f57e9e"
      },
      "outputs": [
        {
          "output_type": "stream",
          "name": "stderr",
          "text": [
            "[nltk_data] Downloading package stopwords to /root/nltk_data...\n",
            "[nltk_data]   Unzipping corpora/stopwords.zip.\n",
            "[nltk_data] Downloading package punkt to /root/nltk_data...\n",
            "[nltk_data]   Unzipping tokenizers/punkt.zip.\n",
            "[nltk_data] Downloading package wordnet to /root/nltk_data...\n",
            "[nltk_data] Downloading package omw-1.4 to /root/nltk_data...\n"
          ]
        }
      ],
      "source": [
        "#import library\n",
        "import pandas as pd #for data manipulation and analysis\n",
        "import matplotlib.pyplot as plt # for data visualization and graphical plotting\n",
        "import numpy as np # for manipulation of multi-dimensional arrays and matrices\n",
        "import seaborn as sns # for data visualization\n",
        "import re # for regular expression matching operations \n",
        "import nltk # for Natural Language processing\n",
        "nltk.download('stopwords')\n",
        "from nltk.corpus import stopwords\n",
        "from nltk.tokenize import word_tokenize\n",
        "import nltk\n",
        "nltk.download('punkt')\n",
        "nltk.download('wordnet')\n",
        "nltk.download('omw-1.4')\n",
        "from nltk.stem import WordNetLemmatizer\n",
        "from sklearn.model_selection import train_test_split #sklearn-- for machine learning algorithms\n",
        "from sklearn.feature_extraction.text import CountVectorizer\n",
        "from sklearn.feature_extraction.text import TfidfVectorizer\n",
        "from sklearn.model_selection import RandomizedSearchCV\n",
        "from sklearn import metrics \n",
        "from sklearn.metrics import mean_squared_error,mean_absolute_error, make_scorer,classification_report,confusion_matrix,accuracy_score,roc_auc_score\n",
        "import warnings\n",
        "warnings.filterwarnings(\"ignore\")"
      ]
    },
    {
      "cell_type": "code",
      "execution_count": 3,
      "metadata": {
        "id": "K2333WX18Gn6"
      },
      "outputs": [],
      "source": [
        "#loading the dataset\n",
        "tweet_df=pd.read_csv('/content/drive/MyDrive/dat files in ml/capstone project/Data & Resources/Coronavirus Tweets.csv',encoding = 'latin')"
      ]
    },
    {
      "cell_type": "code",
      "execution_count": 4,
      "metadata": {
        "colab": {
          "base_uri": "https://localhost:8080/",
          "height": 206
        },
        "id": "m8Cc7IpmAMp6",
        "outputId": "f296e6d5-dac3-41f3-ea3c-f0da255f7ebb"
      },
      "outputs": [
        {
          "output_type": "execute_result",
          "data": {
            "text/plain": [
              "   UserName  ScreenName   Location     TweetAt  \\\n",
              "0      3799       48751     London  16-03-2020   \n",
              "1      3800       48752         UK  16-03-2020   \n",
              "2      3801       48753  Vagabonds  16-03-2020   \n",
              "3      3802       48754        NaN  16-03-2020   \n",
              "4      3803       48755        NaN  16-03-2020   \n",
              "\n",
              "                                       OriginalTweet           Sentiment  \n",
              "0  @MeNyrbie @Phil_Gahan @Chrisitv https://t.co/i...             Neutral  \n",
              "1  advice Talk to your neighbours family to excha...            Positive  \n",
              "2  Coronavirus Australia: Woolworths to give elde...            Positive  \n",
              "3  My food stock is not the only one which is emp...            Positive  \n",
              "4  Me, ready to go at supermarket during the #COV...  Extremely Negative  "
            ],
            "text/html": [
              "\n",
              "  <div id=\"df-0587cd65-ec90-4e7d-a6c2-b50f8b18a73e\">\n",
              "    <div class=\"colab-df-container\">\n",
              "      <div>\n",
              "<style scoped>\n",
              "    .dataframe tbody tr th:only-of-type {\n",
              "        vertical-align: middle;\n",
              "    }\n",
              "\n",
              "    .dataframe tbody tr th {\n",
              "        vertical-align: top;\n",
              "    }\n",
              "\n",
              "    .dataframe thead th {\n",
              "        text-align: right;\n",
              "    }\n",
              "</style>\n",
              "<table border=\"1\" class=\"dataframe\">\n",
              "  <thead>\n",
              "    <tr style=\"text-align: right;\">\n",
              "      <th></th>\n",
              "      <th>UserName</th>\n",
              "      <th>ScreenName</th>\n",
              "      <th>Location</th>\n",
              "      <th>TweetAt</th>\n",
              "      <th>OriginalTweet</th>\n",
              "      <th>Sentiment</th>\n",
              "    </tr>\n",
              "  </thead>\n",
              "  <tbody>\n",
              "    <tr>\n",
              "      <th>0</th>\n",
              "      <td>3799</td>\n",
              "      <td>48751</td>\n",
              "      <td>London</td>\n",
              "      <td>16-03-2020</td>\n",
              "      <td>@MeNyrbie @Phil_Gahan @Chrisitv https://t.co/i...</td>\n",
              "      <td>Neutral</td>\n",
              "    </tr>\n",
              "    <tr>\n",
              "      <th>1</th>\n",
              "      <td>3800</td>\n",
              "      <td>48752</td>\n",
              "      <td>UK</td>\n",
              "      <td>16-03-2020</td>\n",
              "      <td>advice Talk to your neighbours family to excha...</td>\n",
              "      <td>Positive</td>\n",
              "    </tr>\n",
              "    <tr>\n",
              "      <th>2</th>\n",
              "      <td>3801</td>\n",
              "      <td>48753</td>\n",
              "      <td>Vagabonds</td>\n",
              "      <td>16-03-2020</td>\n",
              "      <td>Coronavirus Australia: Woolworths to give elde...</td>\n",
              "      <td>Positive</td>\n",
              "    </tr>\n",
              "    <tr>\n",
              "      <th>3</th>\n",
              "      <td>3802</td>\n",
              "      <td>48754</td>\n",
              "      <td>NaN</td>\n",
              "      <td>16-03-2020</td>\n",
              "      <td>My food stock is not the only one which is emp...</td>\n",
              "      <td>Positive</td>\n",
              "    </tr>\n",
              "    <tr>\n",
              "      <th>4</th>\n",
              "      <td>3803</td>\n",
              "      <td>48755</td>\n",
              "      <td>NaN</td>\n",
              "      <td>16-03-2020</td>\n",
              "      <td>Me, ready to go at supermarket during the #COV...</td>\n",
              "      <td>Extremely Negative</td>\n",
              "    </tr>\n",
              "  </tbody>\n",
              "</table>\n",
              "</div>\n",
              "      <button class=\"colab-df-convert\" onclick=\"convertToInteractive('df-0587cd65-ec90-4e7d-a6c2-b50f8b18a73e')\"\n",
              "              title=\"Convert this dataframe to an interactive table.\"\n",
              "              style=\"display:none;\">\n",
              "        \n",
              "  <svg xmlns=\"http://www.w3.org/2000/svg\" height=\"24px\"viewBox=\"0 0 24 24\"\n",
              "       width=\"24px\">\n",
              "    <path d=\"M0 0h24v24H0V0z\" fill=\"none\"/>\n",
              "    <path d=\"M18.56 5.44l.94 2.06.94-2.06 2.06-.94-2.06-.94-.94-2.06-.94 2.06-2.06.94zm-11 1L8.5 8.5l.94-2.06 2.06-.94-2.06-.94L8.5 2.5l-.94 2.06-2.06.94zm10 10l.94 2.06.94-2.06 2.06-.94-2.06-.94-.94-2.06-.94 2.06-2.06.94z\"/><path d=\"M17.41 7.96l-1.37-1.37c-.4-.4-.92-.59-1.43-.59-.52 0-1.04.2-1.43.59L10.3 9.45l-7.72 7.72c-.78.78-.78 2.05 0 2.83L4 21.41c.39.39.9.59 1.41.59.51 0 1.02-.2 1.41-.59l7.78-7.78 2.81-2.81c.8-.78.8-2.07 0-2.86zM5.41 20L4 18.59l7.72-7.72 1.47 1.35L5.41 20z\"/>\n",
              "  </svg>\n",
              "      </button>\n",
              "      \n",
              "  <style>\n",
              "    .colab-df-container {\n",
              "      display:flex;\n",
              "      flex-wrap:wrap;\n",
              "      gap: 12px;\n",
              "    }\n",
              "\n",
              "    .colab-df-convert {\n",
              "      background-color: #E8F0FE;\n",
              "      border: none;\n",
              "      border-radius: 50%;\n",
              "      cursor: pointer;\n",
              "      display: none;\n",
              "      fill: #1967D2;\n",
              "      height: 32px;\n",
              "      padding: 0 0 0 0;\n",
              "      width: 32px;\n",
              "    }\n",
              "\n",
              "    .colab-df-convert:hover {\n",
              "      background-color: #E2EBFA;\n",
              "      box-shadow: 0px 1px 2px rgba(60, 64, 67, 0.3), 0px 1px 3px 1px rgba(60, 64, 67, 0.15);\n",
              "      fill: #174EA6;\n",
              "    }\n",
              "\n",
              "    [theme=dark] .colab-df-convert {\n",
              "      background-color: #3B4455;\n",
              "      fill: #D2E3FC;\n",
              "    }\n",
              "\n",
              "    [theme=dark] .colab-df-convert:hover {\n",
              "      background-color: #434B5C;\n",
              "      box-shadow: 0px 1px 3px 1px rgba(0, 0, 0, 0.15);\n",
              "      filter: drop-shadow(0px 1px 2px rgba(0, 0, 0, 0.3));\n",
              "      fill: #FFFFFF;\n",
              "    }\n",
              "  </style>\n",
              "\n",
              "      <script>\n",
              "        const buttonEl =\n",
              "          document.querySelector('#df-0587cd65-ec90-4e7d-a6c2-b50f8b18a73e button.colab-df-convert');\n",
              "        buttonEl.style.display =\n",
              "          google.colab.kernel.accessAllowed ? 'block' : 'none';\n",
              "\n",
              "        async function convertToInteractive(key) {\n",
              "          const element = document.querySelector('#df-0587cd65-ec90-4e7d-a6c2-b50f8b18a73e');\n",
              "          const dataTable =\n",
              "            await google.colab.kernel.invokeFunction('convertToInteractive',\n",
              "                                                     [key], {});\n",
              "          if (!dataTable) return;\n",
              "\n",
              "          const docLinkHtml = 'Like what you see? Visit the ' +\n",
              "            '<a target=\"_blank\" href=https://colab.research.google.com/notebooks/data_table.ipynb>data table notebook</a>'\n",
              "            + ' to learn more about interactive tables.';\n",
              "          element.innerHTML = '';\n",
              "          dataTable['output_type'] = 'display_data';\n",
              "          await google.colab.output.renderOutput(dataTable, element);\n",
              "          const docLink = document.createElement('div');\n",
              "          docLink.innerHTML = docLinkHtml;\n",
              "          element.appendChild(docLink);\n",
              "        }\n",
              "      </script>\n",
              "    </div>\n",
              "  </div>\n",
              "  "
            ]
          },
          "metadata": {},
          "execution_count": 4
        }
      ],
      "source": [
        "#Top five observation of the dataset\n",
        "tweet_df.head()"
      ]
    },
    {
      "cell_type": "code",
      "execution_count": 5,
      "metadata": {
        "colab": {
          "base_uri": "https://localhost:8080/"
        },
        "id": "pS8m-dkEA8sQ",
        "outputId": "3682699b-3411-46ad-97ff-59464104b1f6"
      },
      "outputs": [
        {
          "output_type": "stream",
          "name": "stdout",
          "text": [
            "<class 'pandas.core.frame.DataFrame'>\n",
            "RangeIndex: 41157 entries, 0 to 41156\n",
            "Data columns (total 6 columns):\n",
            " #   Column         Non-Null Count  Dtype \n",
            "---  ------         --------------  ----- \n",
            " 0   UserName       41157 non-null  int64 \n",
            " 1   ScreenName     41157 non-null  int64 \n",
            " 2   Location       32567 non-null  object\n",
            " 3   TweetAt        41157 non-null  object\n",
            " 4   OriginalTweet  41157 non-null  object\n",
            " 5   Sentiment      41157 non-null  object\n",
            "dtypes: int64(2), object(4)\n",
            "memory usage: 1.9+ MB\n"
          ]
        }
      ],
      "source": [
        "# Information about different column of the Dataset\n",
        "tweet_df.info()"
      ]
    },
    {
      "cell_type": "code",
      "execution_count": 6,
      "metadata": {
        "id": "A_HcH93iG2tT"
      },
      "outputs": [],
      "source": [
        "columns=['Location','TweetAt','Sentiment']"
      ]
    },
    {
      "cell_type": "code",
      "execution_count": 7,
      "metadata": {
        "colab": {
          "base_uri": "https://localhost:8080/"
        },
        "id": "-i6ArllDG21_",
        "outputId": "d38e3b7d-756f-4e33-dee3-1978c72e00c0"
      },
      "outputs": [
        {
          "output_type": "stream",
          "name": "stdout",
          "text": [
            "\u001b[1mThe number of uniue values in Location are\u001b :\n",
            "\n",
            "                       Unique Values  Count\n",
            "0                            London    540\n",
            "1                     United States    528\n",
            "2                   London, England    520\n",
            "3                      New York, NY    395\n",
            "4                    Washington, DC    373\n",
            "...                             ...    ...\n",
            "12215       Staffordshire Moorlands      1\n",
            "12216                 Kithchener ON      1\n",
            "12217                     Tulsa, Ok      1\n",
            "12218  Watford, South Oxhey, Bushey      1\n",
            "12219  i love you so much || he/him      1\n",
            "\n",
            "[12220 rows x 2 columns]\n",
            "\n",
            "\u001b[1mThe number of uniue values in TweetAt are\u001b :\n",
            "\n",
            "    Unique Values  TweetAt\n",
            "0     20-03-2020     3448\n",
            "1     19-03-2020     3215\n",
            "2     25-03-2020     2979\n",
            "3     18-03-2020     2742\n",
            "4     21-03-2020     2653\n",
            "5     22-03-2020     2114\n",
            "6     23-03-2020     2062\n",
            "7     17-03-2020     1977\n",
            "8     08-04-2020     1881\n",
            "9     07-04-2020     1843\n",
            "10    06-04-2020     1742\n",
            "11    24-03-2020     1480\n",
            "12    09-04-2020     1471\n",
            "13    13-04-2020     1428\n",
            "14    26-03-2020     1277\n",
            "15    05-04-2020     1131\n",
            "16    10-04-2020     1005\n",
            "17    02-04-2020      954\n",
            "18    11-04-2020      909\n",
            "19    03-04-2020      810\n",
            "20    12-04-2020      803\n",
            "21    04-04-2020      767\n",
            "22    16-03-2020      656\n",
            "23    01-04-2020      630\n",
            "24    27-03-2020      345\n",
            "25    31-03-2020      316\n",
            "26    14-04-2020      284\n",
            "27    29-03-2020      125\n",
            "28    30-03-2020       87\n",
            "29    28-03-2020       23\n",
            "\n",
            "\u001b[1mThe number of uniue values in Sentiment are\u001b :\n",
            "\n",
            "         Unique Values  Sentiment\n",
            "0            Positive      11422\n",
            "1            Negative       9917\n",
            "2             Neutral       7713\n",
            "3  Extremely Positive       6624\n",
            "4  Extremely Negative       5481\n",
            "\n"
          ]
        }
      ],
      "source": [
        "#unique value counts for above mentioned columns\n",
        "for item in columns:\n",
        "  value_count=tweet_df[item].value_counts().reset_index().rename(columns={'index': 'Unique Values', 'Location': 'Count'})\n",
        "  print(f'\\033[1mThe number of uniue values in {item} are\\033 :\\n\\n {value_count}\\n')\n",
        "\n"
      ]
    },
    {
      "cell_type": "markdown",
      "metadata": {
        "id": "N_fXf_rIe3L3"
      },
      "source": [
        "##Deep Dive on tweets"
      ]
    },
    {
      "cell_type": "code",
      "execution_count": 8,
      "metadata": {
        "colab": {
          "base_uri": "https://localhost:8080/"
        },
        "id": "xDFRxxXuG28v",
        "outputId": "8f557be2-102c-4371-a7bb-bb5b05163d30"
      },
      "outputs": [
        {
          "output_type": "stream",
          "name": "stdout",
          "text": [
            "1    advice Talk to your neighbours family to exchange phone numbers create contact list with phone numbers of neighbours schools employer chemist GP set up online shopping accounts if poss adequate supplies of regular meds but not over order                                                                                    \n",
            "2    Coronavirus Australia: Woolworths to give elderly, disabled dedicated shopping hours amid COVID-19 outbreak https://t.co/bInCA9Vp8P                                                                                                                                                                                              \n",
            "3    My food stock is not the only one which is empty...\\r\\r\\n\\r\\r\\nPLEASE, don't panic, THERE WILL BE ENOUGH FOOD FOR EVERYONE if you do not take more than you need. \\r\\r\\nStay calm, stay safe.\\r\\r\\n\\r\\r\\n#COVID19france #COVID_19 #COVID19 #coronavirus #confinement #Confinementotal #ConfinementGeneral https://t.co/zrlG0Z520j\n",
            "5    As news of the regionÂs first confirmed COVID-19 case came out of Sullivan County last week, people flocked to area stores to purchase cleaning supplies, hand sanitizer, food, toilet paper and other goods, @Tim_Dodson reports https://t.co/cfXch7a2lU                                                                       \n",
            "6    Cashier at grocery store was sharing his insights on #Covid_19 To prove his credibility he commented \"I'm in Civics class so I know what I'm talking about\". https://t.co/ieFDNeHgDO                                                                                                                                             \n",
            "Name: OriginalTweet, dtype: object\n",
            "41140    Good News! \\r\\r\\nWe'll Soon Announce Our High Tech G&amp;G Online &amp; Live Course for Covid-19 effected Countries in very low prices. \\r\\r\\nTitle: How to Approach Shale Reservoirs\\r\\r\\nSpeaker: Dr. Ali Jaffri\\r\\r\\nKeep visiting our facebook page for more updates\\r\\r\\nhttps://t.co/G0Ri0EGP6M https://t.co/qUQ8Y0uM6n\n",
            "41145    How exactly are we going to re-open New York City if we still can't buy any hand sanitizer?  #coronavirus                                                                                                                                                                                                                    \n",
            "41146    #Gold prices rose to a more than 7-year high today due to #coronavirus increased bullion's #safe-haven appeal.\\r\\r\\nIt gained 0.1% to $1,715.25/ounce , having touched its highest since Dec. 2012 at $1,722.20 earlier in the session.\\r\\r\\n#Spot gold is Rs.46,215 per 10 gms. https://t.co/S8coY5VVgN                     \n",
            "41150    I never that weÂd be in a situation &amp; world that going to the supermarket , picking up a package or my mail is like playing Russian roulette with my life #coronavirus #StayHome #SocialDistancing                                                                                                                      \n",
            "41154    You know itÂs getting tough when @KameronWilds  is rationing toilet paper #coronavirus #toiletpaper @kroger martinsville, help us out!!                                                                                                                                                                                     \n",
            "Name: OriginalTweet, dtype: object\n"
          ]
        }
      ],
      "source": [
        "#Positive Tweet\n",
        "pd.set_option('display.max_colwidth', -1)\n",
        "print(tweet_df[tweet_df['Sentiment']=='Positive']['OriginalTweet'].head(5))\n",
        "print(tweet_df[tweet_df['Sentiment']=='Positive']['OriginalTweet'].tail(5))"
      ]
    },
    {
      "cell_type": "code",
      "execution_count": 9,
      "metadata": {
        "colab": {
          "base_uri": "https://localhost:8080/"
        },
        "id": "m1ZVU4vtUpUL",
        "outputId": "892e7402-1c07-40fa-e8d3-769e8be87cef"
      },
      "outputs": [
        {
          "output_type": "stream",
          "name": "stdout",
          "text": [
            "9     For corona prevention,we should stop to buy things with the cash and should use online payment methods because corona can spread through the notes. Also we should prefer online shopping from our home. It's time to fight against COVID 19?. #govindia #IndiaFightsCorona                            \n",
            "24    @10DowningStreet @grantshapps what is being done to ensure food and other essential products are being re-stocked at supermarkets and panic buying actively discouraged? It cannot be left to checkout staff to police the actions of the selfish and profiteer                                        \n",
            "26    In preparation for higher demand and a potential food shortage, The Hunger Coalition purchased 10 percent more food and implemented new protocols due to the COVID-19 coronavirus. https://t.co/5CecYtLnYn                                                                                             \n",
            "28    Do you see malicious price increases in NYC? The NYC Department of Consumer and Worker Protection (DCWP) has set up a page to digitally file a complaint. Click here: https://t.co/oEx6Y8mm2K\\r\\r\\n\\r\\r\\nTo file a complaint (use the word\"Overcharge\") https://t.co/MdMmoBttOP\\r\\r\\n#COVID19 #CovidNYC\n",
            "30    There Is of in the Country  The more empty shelves people see the more buying ensues the more food is out of stock                                                                                                                                                                                     \n",
            "Name: OriginalTweet, dtype: object\n",
            "41127    Today at the grocery store I saw someone getting a case of #Corona beer and I was about to jokingly say 'hey man i see you got Corona' then I stopped myself doing that thinking it would be the new version of yelling fire in a movie theater #COVID2019 #COVID19 #QuarantineLife   \n",
            "41131    In every human affliction there are  gainers and losers. In this case of Covid 19, the TELECOS are gaining beyond expectations. The level of internet being used at this moment is mind blowing. Govt need to talk the telcos into reducing internet prices now. #ReduceInternetPrices\n",
            "41147    YÂall really shitting that much more at home?? #COVID19 #coronavirus #toiletpaper                                                                                                                                                                                                    \n",
            "41149    Still shocked by the number of #Toronto supermarket employees working without some sort of mask. We all know by now, employees can be asymptomatic while spreading #coronavirus .                                                                                                     \n",
            "41156    @TartiiCat Well new/used Rift S are going for $700.00 on Amazon rn although the normal market price is usually $400.00 . Prices are really crazy right now for vr headsets since HL Alex was announced and it's only been worse with COVID-19. Up to you whethe                       \n",
            "Name: OriginalTweet, dtype: object\n"
          ]
        }
      ],
      "source": [
        "#Negative Tweets\n",
        "pd.set_option('display.max_colwidth', -1)\n",
        "print(tweet_df[tweet_df['Sentiment']=='Negative']['OriginalTweet'].head(5))\n",
        "print(tweet_df[tweet_df['Sentiment']=='Negative']['OriginalTweet'].tail(5))"
      ]
    },
    {
      "cell_type": "code",
      "execution_count": 10,
      "metadata": {
        "colab": {
          "base_uri": "https://localhost:8080/"
        },
        "id": "n9ZAGPPaculU",
        "outputId": "46b02594-0204-493d-a286-59a3e74e3096"
      },
      "outputs": [
        {
          "output_type": "stream",
          "name": "stdout",
          "text": [
            "0     @MeNyrbie @Phil_Gahan @Chrisitv https://t.co/iFz9FAn2Pa and https://t.co/xX6ghGFzCC and https://t.co/I2NlzdxNo8                                                                                                                                                                     \n",
            "7     Was at the supermarket today. Didn't buy toilet paper. #Rebel\\r\\r\\n\\r\\r\\n#toiletpapercrisis #covid_19 https://t.co/eVXkQLIdAZ                                                                                                                                                       \n",
            "10    All month there hasn't been crowding in the supermarkets or restaurants, however reducing all the hours and closing the malls means everyone is now using the same entrance and dependent on a single supermarket. #manila #lockdown #covid2019 #Philippines https://t.co/HxWs9LAnF9\n",
            "16    ????? ????? ????? ????? ??\\r\\r\\n?????? ????? ??????? ????????? ?\\r\\r\\n#????_???? ????? ???? ?????? ? #????????? ?????? ?? 13 ???? ?? ?? ???? ?????? ?? ??\\r\\r\\n#???_???????? ????? ??? ???? ? https://t.co/51bL8P6vZh                                                               \n",
            "17    @eyeonthearctic 16MAR20 Russia consumer surveillance watchdog reported case in high Arctic where a man who traveled to Iran has COVID-19 and 101 are \"observed\"\\r\\r\\nhttps://t.co/4WnrrK9oKC https://t.co/ld05k5Eyns                                                                \n",
            "Name: OriginalTweet, dtype: object\n",
            "41141    #Coronavirus ?? ????? ??? ????? ?? ??? ??????? ?? ????? ???? ?? ?? ??? ??? ?? ??? ?? ??????? ???? ??? ???????????? @narendramodi ?? ??? ????? ?? ????? ???? ?? ????\\r\\r\\n#ATCard #StayHome #Lockdown2 https://t.co/s2wOsfNMQd                                                       \n",
            "41143    https://t.co/8s4vKvcO1r #5gtowers?? #EcuadorUnido #cruiseships #SaveTheChildren #wuhan #BillGates?#SocialDistance #coronavirus is caused by #cellpoisoning from #radiation #cancer #exosomes #youcantcatchavirus #Trump2020 #lockdown #toiletpaper #china wants control #iphone?? #Q\n",
            "41144    @_Sunrise_SV @Gamzap @NPR What does not having a supermarket nearby have to do with getting COVID-19?                                                                                                                                                                               \n",
            "41152    Airline pilots offering to stock supermarket shelves in #NZ lockdown #COVID-19 https://t.co/cz89uA0HNp                                                                                                                                                                              \n",
            "41155    Is it wrong that the smell of hand sanitizer is starting to turn me on?\\r\\r\\n\\r\\r\\n#coronavirus #COVID19 #coronavirus                                                                                                                                                               \n",
            "Name: OriginalTweet, dtype: object\n"
          ]
        }
      ],
      "source": [
        "#Neutral Tweets\n",
        "pd.set_option('display.max_colwidth', -1)\n",
        "print(tweet_df[tweet_df['Sentiment']=='Neutral']['OriginalTweet'].head(5))\n",
        "print(tweet_df[tweet_df['Sentiment']=='Neutral']['OriginalTweet'].tail(5))"
      ]
    },
    {
      "cell_type": "code",
      "execution_count": 11,
      "metadata": {
        "colab": {
          "base_uri": "https://localhost:8080/"
        },
        "id": "bFFb9xs4fiYE",
        "outputId": "0d0df470-e724-4e11-fa3d-b0f663a6a395"
      },
      "outputs": [
        {
          "output_type": "stream",
          "name": "stdout",
          "text": [
            "11    Due to the Covid-19 situation, we have increased demand for all food products. \\r\\r\\n\\r\\r\\nThe wait time may be longer for all online orders, particularly beef share and freezer packs. \\r\\r\\n\\r\\r\\nWe thank you for your patience during this time.                                                         \n",
            "12    #horningsea is a caring community. LetÂs ALL look after the less capable in our village and ensure they stay healthy. Bringing shopping to their doors, help with online shopping and self isolation if you have symptoms or been exposed to somebody who has. https://t.co/lsGrXXhjhh                       \n",
            "18    Amazon Glitch Stymies Whole Foods, Fresh Grocery Deliveries\\r\\r\\nÂAs COVID-19 has spread, weÂve seen a significant increase in people shopping online for groceries,Â a spokeswoman said in a statement. ÂToday this resulted in a systems impact affecting our ...\\r\\r\\n https://t.co/TbzZ2MC3b3         \n",
            "22    We have AMAZING CHEAP DEALS! FOR THE #COVID2019 going on to help you???\\r\\r\\n#Trials\\r\\r\\n#Monthly\\r\\r\\n#Yearly \\r\\r\\nAnd Resonable #Prices / #Subscriptions\\r\\r\\nJust DM US! #bestiptv #iptv #Service #Iptv #iptvdeals #Cheap #ipTV #Football #HD #Movies #Adult #Cinema #hotmovies #iptvnew #iptv2020 #Adult\n",
            "23    We have AMAZING CHEAP DEALS! FOR THE #COVID2019 going on to help you???\\r\\r\\n#Trials\\r\\r\\n#Monthly\\r\\r\\n#Yearly \\r\\r\\nAnd Resonable #Prices / #Subscriptions\\r\\r\\nJust DM US! #bestiptv #iptv #Service #Iptv #iptvdeals #Cheap #ipTV #Football #HD #Movies #Adult #Cinema #hotmovies #ipTv IPTVLinks #18Movies\n",
            "Name: OriginalTweet, dtype: object\n",
            "41137    Distilleries have switched portions of their production from alcohol to hand sanitizer to help with                                                                                                                                                            \n",
            "41138    HMU FOR PRICES!! Got great deals going right now. #weedsmokers #StonerFam #420 #bud #Gas #FullSend  #Nelkboys #coronavirus #StimulusChecks #ListenToYourHeart https://t.co/mDMgkOQ8m3                                                                          \n",
            "41142    @MajangChien @MTNSSD @MTNSSD is worst than COVID-19. All businesses have reduced their prices but our MTN is looting us instead of giving us free data.                                                                                                        \n",
            "41148    UV light Sterilizer Sanitizer for your mask and mobile phone ?, pls take care, be safe. #sanitizer #sanitizers #corona #coronavirus #coronavÃ­rus #coronavirÃ¼s https://t.co/v8XDXhqeYN                                                                        \n",
            "41151    @MrSilverScott you are definitely my man. I feel like this fall when we are out and about again, we need to honor our heroes from COVID-19. You know who they are Â our healthcare people , grocery store owners, and anyone else putting their life on the li\n",
            "Name: OriginalTweet, dtype: object\n"
          ]
        }
      ],
      "source": [
        "#Extremely Positive\n",
        "pd.set_option('display.max_colwidth', -1)\n",
        "print(tweet_df[tweet_df['Sentiment']=='Extremely Positive']['OriginalTweet'].head(5))\n",
        "print(tweet_df[tweet_df['Sentiment']=='Extremely Positive']['OriginalTweet'].tail(5))"
      ]
    },
    {
      "cell_type": "code",
      "execution_count": 12,
      "metadata": {
        "colab": {
          "base_uri": "https://localhost:8080/"
        },
        "id": "d-d7IPjNfihS",
        "outputId": "df83d4ec-e3a9-4a71-add0-2c6729f2fa14"
      },
      "outputs": [
        {
          "output_type": "stream",
          "name": "stdout",
          "text": [
            "4     Me, ready to go at supermarket during the #COVID19 outbreak.\\r\\r\\n\\r\\r\\nNot because I'm paranoid, but because my food stock is litteraly empty. The #coronavirus is a serious thing, but please, don't panic. It causes shortage...\\r\\r\\n\\r\\r\\n#CoronavirusFrance #restezchezvous #StayAtHome #confinement https://t.co/usmuaLq72n\n",
            "20    with 100  nations inficted with  covid  19  the world must  not  play fair with china  100 goverments must demand  china  adopts new guilde  lines on food safty  the  chinese  goverment  is guilty of  being  irosponcible   with life  on a global scale                                                                       \n",
            "27    This morning I tested positive for Covid 19. I feel ok, I have no symptoms so far but have been isolated since I found out about my possible exposure to the virus.  Stay home people and be pragmatic. I will keep you updated on how IÂm doing ???? No panic. https://t.co/Lg7HVMZglZ                                          \n",
            "29    @7SealsOfTheEnd Soon with dwindling supplies unlawful Panicky people will be breaking into Closed Stores &amp; Supermarkets to Raid them as they normally do during a Crisis so massive as the #Coronavirus\\r\\r\\n\\r\\r\\n#StockUp&amp;LockUp                                                                                        \n",
            "42    CHECK VIDEO ?? https://t.co/1ksn9Brl02 ??No food ? in USA market due to coronavirus panic we gonna die from starvation #CoronavirusOutbreak #coronavirus #houston #nofood #Notoiletpaper #NoHandShakes #nohandsanitizer #COVID19 #pandemic #totallockdown #COVID2019usa #walmart https://t.co/ztN3iMkgpD                          \n",
            "Name: OriginalTweet, dtype: object\n",
            "41115    Food Banks are not equipped for a 30% unemployment rate. The federal government must provide direct aid to everyone, very quickly.\\r\\r\\n\\r\\r\\n\"The Coronavirus Food Bank Crisis Is Already Underway\" https://t.co/HNpRvYiAaZ                                         \n",
            "41128    The COVID-19 pandemic and global oil price wars are having an economic impact worldwide, but one consequence is lower fuel prices at Australian petrol pumps for the foreseeable.\\r\\r\\n\\r\\r\\n#UniMelbPursuit @dprbyrne @BusEcoNews  \\r\\r\\nhttps://t.co/aB6phfFIwI    \n",
            "41130    Squeo works in the meat department of a Kroger supermarket in Michigan. He knows of several grocery workers whoÂve tested positive for COVID-19 and one in his area who died. He worries that the behavior of some shoppers is putting people in unnecessary danger.\n",
            "41133    A Singaporean politician who slammed a woman snapped with seven supermarket trolleys during COVID-19 lockdown has been forced to eat humble pie after it turned out she was donating goods to the poor\\r\\r\\nhttps://t.co/EDBXXtdHxl\\r\\r\\n#covid19 #lockdown          \n",
            "41153    Response to complaint not provided citing COVID-19 related delays. Yet prompt in rejecting policy before consumer TAT is over. Way to go ?                                                                                                                           \n",
            "Name: OriginalTweet, dtype: object\n"
          ]
        }
      ],
      "source": [
        "#Extremely negative\n",
        "pd.set_option('display.max_colwidth', -1)\n",
        "print(tweet_df[tweet_df['Sentiment']=='Extremely Negative']['OriginalTweet'].head(5))\n",
        "print(tweet_df[tweet_df['Sentiment']=='Extremely Negative']['OriginalTweet'].tail(5))"
      ]
    },
    {
      "cell_type": "code",
      "execution_count": 13,
      "metadata": {
        "id": "Hgu1GizgG3Bs"
      },
      "outputs": [],
      "source": [
        "#create new variable number of characters which stores length of each tweet\n",
        "tweet_df['number of characters']=tweet_df['OriginalTweet'].apply(lambda x: len(x))"
      ]
    },
    {
      "cell_type": "code",
      "source": [
        "#maximum character count of tweet\n",
        "count_max=tweet_df['number of characters'].max()\n",
        "count_max"
      ],
      "metadata": {
        "colab": {
          "base_uri": "https://localhost:8080/"
        },
        "id": "PDN0av7iB0ud",
        "outputId": "243f7fd1-a2b9-4d89-d6fd-6b14ade70dc2"
      },
      "execution_count": 14,
      "outputs": [
        {
          "output_type": "execute_result",
          "data": {
            "text/plain": [
              "355"
            ]
          },
          "metadata": {},
          "execution_count": 14
        }
      ]
    },
    {
      "cell_type": "code",
      "source": [
        "tweet_df.loc[25160,:]"
      ],
      "metadata": {
        "colab": {
          "base_uri": "https://localhost:8080/"
        },
        "id": "G8qnWxAaB2Xy",
        "outputId": "2574565a-ab29-4f2d-cb01-44335b28c877"
      },
      "execution_count": 15,
      "outputs": [
        {
          "output_type": "execute_result",
          "data": {
            "text/plain": [
              "UserName                28959                                                                                                                                                                                                                                                                                                                                                                                               \n",
              "ScreenName              73911                                                                                                                                                                                                                                                                                                                                                                                               \n",
              "Location                Melbourne, Australia                                                                                                                                                                                                                                                                                                                                                                                \n",
              "TweetAt                 30-03-2020                                                                                                                                                                                                                                                                                                                                                                                          \n",
              "OriginalTweet           Crude oil dropped to its lowest in 17 years in Asia as #coronavirus in #US and #EU shows little sign of slowing.\\r\\r\\n\\r\\r\\nNoon prices:\\r\\r\\n#SPX500Â2504.3\\r\\r\\n#NAS100Â7507.1\\r\\r\\n#WTIÂ20.24\\r\\r\\n#GOLDÂ1618.08\\r\\r\\n#SILVERÂ14.118\\r\\r\\n\\r\\r\\nWatch these prices closely: https://t.co/WuiEEfSNOj\\r\\r\\n\\r\\r\\n#COVID19 #CoronaVirusOutbreak https://t.co/j68MZIDXAd https://t.co/9MyqGxutUU\n",
              "Sentiment               Extremely Negative                                                                                                                                                                                                                                                                                                                                                                                  \n",
              "number of characters    355                                                                                                                                                                                                                                                                                                                                                                                                 \n",
              "Name: 25160, dtype: object"
            ]
          },
          "metadata": {},
          "execution_count": 15
        }
      ]
    },
    {
      "cell_type": "code",
      "source": [
        "#minimun character count of tweet\n",
        "count_min=tweet_df['number of characters'].min()\n",
        "count_min"
      ],
      "metadata": {
        "colab": {
          "base_uri": "https://localhost:8080/"
        },
        "id": "mTGG6jk2B2k3",
        "outputId": "3229f6d1-c99a-44e9-a7bb-47b436c53f5e"
      },
      "execution_count": 16,
      "outputs": [
        {
          "output_type": "execute_result",
          "data": {
            "text/plain": [
              "11"
            ]
          },
          "metadata": {},
          "execution_count": 16
        }
      ]
    },
    {
      "cell_type": "code",
      "source": [
        "#tweet with minumum charecter\n",
        "pd.set_option('display.max_colwidth', -1)  \n",
        "tweet_df[tweet_df['number of characters']==count_min]['OriginalTweet']"
      ],
      "metadata": {
        "colab": {
          "base_uri": "https://localhost:8080/"
        },
        "id": "NPSEmEVkCDGb",
        "outputId": "04208c78-2d22-429c-dda5-8bfac4bae794"
      },
      "execution_count": 17,
      "outputs": [
        {
          "output_type": "execute_result",
          "data": {
            "text/plain": [
              "9776     Be like Bob\n",
              "16872    Cartoon for\n",
              "20467    Omg y all  \n",
              "35526          amp  \n",
              "Name: OriginalTweet, dtype: object"
            ]
          },
          "metadata": {},
          "execution_count": 17
        }
      ]
    },
    {
      "cell_type": "code",
      "source": [
        "tweet_df.loc[9776,:],tweet_df.loc[16872,:],tweet_df.loc[20467,:],tweet_df.loc[35526,:]"
      ],
      "metadata": {
        "colab": {
          "base_uri": "https://localhost:8080/"
        },
        "id": "UYb-l9seCJQS",
        "outputId": "6058337a-e255-438b-d44d-d5373fa67fa6"
      },
      "execution_count": 18,
      "outputs": [
        {
          "output_type": "execute_result",
          "data": {
            "text/plain": [
              "(UserName                13575                   \n",
              " ScreenName              58527                   \n",
              " Location                Scotland, United Kingdom\n",
              " TweetAt                 20-03-2020              \n",
              " OriginalTweet           Be like Bob             \n",
              " Sentiment               Positive                \n",
              " number of characters    11                      \n",
              " Name: 9776, dtype: object, UserName                20671      \n",
              " ScreenName              65623      \n",
              " Location                ?? ?       \n",
              " TweetAt                 23-03-2020 \n",
              " OriginalTweet           Cartoon for\n",
              " Sentiment               Neutral    \n",
              " number of characters    11         \n",
              " Name: 16872, dtype: object, UserName                24266          \n",
              " ScreenName              69218          \n",
              " Location                Coastal Elite ?\n",
              " TweetAt                 25-03-2020     \n",
              " OriginalTweet           Omg y all      \n",
              " Sentiment               Neutral        \n",
              " number of characters    11             \n",
              " Name: 20467, dtype: object, UserName                39325        \n",
              " ScreenName              84277        \n",
              " Location                Indore, India\n",
              " TweetAt                 09-04-2020   \n",
              " OriginalTweet                 amp    \n",
              " Sentiment               Neutral      \n",
              " number of characters    11           \n",
              " Name: 35526, dtype: object)"
            ]
          },
          "metadata": {},
          "execution_count": 18
        }
      ]
    },
    {
      "cell_type": "code",
      "source": [
        "#describtion of character length column\n",
        "tweet_df['number of characters'].describe()"
      ],
      "metadata": {
        "colab": {
          "base_uri": "https://localhost:8080/"
        },
        "id": "O7gMnXOvCKgD",
        "outputId": "7040f04a-9e96-483c-a5ef-53a2dcc25508"
      },
      "execution_count": 19,
      "outputs": [
        {
          "output_type": "execute_result",
          "data": {
            "text/plain": [
              "count    41157.000000\n",
              "mean     204.200160  \n",
              "std      68.655129   \n",
              "min      11.000000   \n",
              "25%      151.000000  \n",
              "50%      215.000000  \n",
              "75%      259.000000  \n",
              "max      355.000000  \n",
              "Name: number of characters, dtype: float64"
            ]
          },
          "metadata": {},
          "execution_count": 19
        }
      ]
    }
  ],
  "metadata": {
    "colab": {
      "collapsed_sections": [],
      "provenance": [],
      "include_colab_link": true
    },
    "gpuClass": "standard",
    "kernelspec": {
      "display_name": "Python 3",
      "language": "python",
      "name": "python3"
    },
    "language_info": {
      "codemirror_mode": {
        "name": "ipython",
        "version": 3
      },
      "file_extension": ".py",
      "mimetype": "text/x-python",
      "name": "python",
      "nbconvert_exporter": "python",
      "pygments_lexer": "ipython3",
      "version": "3.6.6"
    }
  },
  "nbformat": 4,
  "nbformat_minor": 0
}